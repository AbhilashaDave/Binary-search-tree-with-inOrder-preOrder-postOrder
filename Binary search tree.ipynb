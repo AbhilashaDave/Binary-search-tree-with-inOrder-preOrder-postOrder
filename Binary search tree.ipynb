{
 "cells": [
  {
   "cell_type": "code",
   "execution_count": 10,
   "metadata": {},
   "outputs": [
    {
     "name": "stdout",
     "output_type": "stream",
     "text": [
      "1\n",
      "3\n",
      "4\n",
      "6\n",
      "7\n",
      "8\n",
      "10\n",
      "13\n",
      "14\n"
     ]
    }
   ],
   "source": [
    "class Node:\n",
    "    def __init__(self,key):\n",
    "        self.left = None\n",
    "        self.right = None\n",
    "        self.value = key\n",
    "class binarySearchTree:\n",
    "    def __init__(self):\n",
    "        self.root = None\n",
    "    \n",
    "    def insertNode(self,value):\n",
    "        if self.root == None:\n",
    "            self.root = Node(value)\n",
    "        else:\n",
    "            self._insertNode(value, self.root)\n",
    "    def _insertNode(self,value, currentNode):\n",
    "        if (value < currentNode.value):\n",
    "            if currentNode.left == None:\n",
    "                currentNode.left = Node(value)\n",
    "            else:\n",
    "                self._insertNode(value,currentNode.left)\n",
    "        if (value > currentNode.value):\n",
    "            if currentNode.right == None:\n",
    "                currentNode.right = Node(value)\n",
    "            else:\n",
    "                self._insertNode(value,currentNode.right)\n",
    "    def printTree(self):\n",
    "        if self.root !=None:\n",
    "            self._printTree(self.root)\n",
    "    def _printTree(self,currentNode):\n",
    "        if currentNode !=None:\n",
    "            self._printTree(currentNode.left)\n",
    "            print(currentNode.value)\n",
    "            self._printTree(currentNode.right)\n",
    "\n",
    "    \n",
    "tree = binarySearchTree()\n",
    "arrayElement = [8,10,3,1,14,7,13,6,4]\n",
    "for element in arrayElement:\n",
    "    tree.insertNode(element)  \n",
    "\n",
    "tree.printTree()\n",
    "\n",
    "        \n",
    "        \n",
    "        \n"
   ]
  },
  {
   "cell_type": "code",
   "execution_count": null,
   "metadata": {},
   "outputs": [],
   "source": []
  }
 ],
 "metadata": {
  "kernelspec": {
   "display_name": "Python 3",
   "language": "python",
   "name": "python3"
  },
  "language_info": {
   "codemirror_mode": {
    "name": "ipython",
    "version": 3
   },
   "file_extension": ".py",
   "mimetype": "text/x-python",
   "name": "python",
   "nbconvert_exporter": "python",
   "pygments_lexer": "ipython3",
   "version": "3.6.5"
  }
 },
 "nbformat": 4,
 "nbformat_minor": 2
}
